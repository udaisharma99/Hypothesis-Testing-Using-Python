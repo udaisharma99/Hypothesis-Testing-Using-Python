{
  "nbformat": 4,
  "nbformat_minor": 0,
  "metadata": {
    "colab": {
      "provenance": [],
      "authorship_tag": "ABX9TyOJkCuON53X8AvBOJpZjmVQ",
      "include_colab_link": true
    },
    "kernelspec": {
      "name": "python3",
      "display_name": "Python 3"
    },
    "language_info": {
      "name": "python"
    }
  },
  "cells": [
    {
      "cell_type": "markdown",
      "metadata": {
        "id": "view-in-github",
        "colab_type": "text"
      },
      "source": [
        "<a href=\"https://colab.research.google.com/github/udaisharma99/Hypothesis-Testing-Using-Python/blob/main/Hypothesis_Testing_.ipynb\" target=\"_parent\"><img src=\"https://colab.research.google.com/assets/colab-badge.svg\" alt=\"Open In Colab\"/></a>"
      ]
    },
    {
      "cell_type": "markdown",
      "source": [
        "# *Importing the Python Libraries and Dataset*"
      ],
      "metadata": {
        "id": "Ph9Hq51fq9Ll"
      }
    },
    {
      "cell_type": "code",
      "execution_count": 2,
      "metadata": {
        "colab": {
          "base_uri": "https://localhost:8080/"
        },
        "id": "kWzZtGmuqcAK",
        "outputId": "84dc2057-931f-4141-f385-11bd376b3931"
      },
      "outputs": [
        {
          "output_type": "stream",
          "name": "stdout",
          "text": [
            "         Theme  Click Through Rate  Conversion Rate  Bounce Rate  \\\n",
            "0  Light Theme            0.054920         0.282367     0.405085   \n",
            "1  Light Theme            0.113932         0.032973     0.732759   \n",
            "2   Dark Theme            0.323352         0.178763     0.296543   \n",
            "3  Light Theme            0.485836         0.325225     0.245001   \n",
            "4  Light Theme            0.034783         0.196766     0.765100   \n",
            "\n",
            "   Scroll_Depth  Age   Location  Session_Duration Purchases Added_to_Cart  \n",
            "0     72.489458   25    Chennai              1535        No           Yes  \n",
            "1     61.858568   19       Pune               303        No           Yes  \n",
            "2     45.737376   47    Chennai               563       Yes           Yes  \n",
            "3     76.305298   58       Pune               385       Yes            No  \n",
            "4     48.927407   25  New Delhi              1437        No            No  \n"
          ]
        }
      ],
      "source": [
        "import pandas as pd\n",
        "from scipy.stats import ttest_ind\n",
        "\n",
        "df = pd.read_csv('/content/website_ab_test.csv')\n",
        "\n",
        "print(df.head())"
      ]
    },
    {
      "cell_type": "markdown",
      "source": [
        "# *Dataset Summary*"
      ],
      "metadata": {
        "id": "rvQSRZ41sCy9"
      }
    },
    {
      "cell_type": "code",
      "source": [
        "summary = {\n",
        "    'Number of Records': df.shape[0],\n",
        "    'Number of Columns': df.shape[1],\n",
        "    'Missing Values': df.isnull().sum(),\n",
        "    'Numerical Columns Summary': df.describe()\n",
        "}\n",
        "\n",
        "summary"
      ],
      "metadata": {
        "colab": {
          "base_uri": "https://localhost:8080/"
        },
        "id": "dnX5XdrQqrc-",
        "outputId": "cf2e3840-d3cc-453d-cf17-093952295aff"
      },
      "execution_count": 3,
      "outputs": [
        {
          "output_type": "execute_result",
          "data": {
            "text/plain": [
              "{'Number of Records': 1000,\n",
              " 'Number of Columns': 10,\n",
              " 'Missing Values': Theme                 0\n",
              " Click Through Rate    0\n",
              " Conversion Rate       0\n",
              " Bounce Rate           0\n",
              " Scroll_Depth          0\n",
              " Age                   0\n",
              " Location              0\n",
              " Session_Duration      0\n",
              " Purchases             0\n",
              " Added_to_Cart         0\n",
              " dtype: int64,\n",
              " 'Numerical Columns Summary':        Click Through Rate  Conversion Rate  Bounce Rate  Scroll_Depth  \\\n",
              " count         1000.000000      1000.000000  1000.000000   1000.000000   \n",
              " mean             0.256048         0.253312     0.505758     50.319494   \n",
              " std              0.139265         0.139092     0.172195     16.895269   \n",
              " min              0.010767         0.010881     0.200720     20.011738   \n",
              " 25%              0.140794         0.131564     0.353609     35.655167   \n",
              " 50%              0.253715         0.252823     0.514049     51.130712   \n",
              " 75%              0.370674         0.373040     0.648557     64.666258   \n",
              " max              0.499989         0.498916     0.799658     79.997108   \n",
              " \n",
              "                Age  Session_Duration  \n",
              " count  1000.000000       1000.000000  \n",
              " mean     41.528000        924.999000  \n",
              " std      14.114334        508.231723  \n",
              " min      18.000000         38.000000  \n",
              " 25%      29.000000        466.500000  \n",
              " 50%      42.000000        931.000000  \n",
              " 75%      54.000000       1375.250000  \n",
              " max      65.000000       1797.000000  }"
            ]
          },
          "metadata": {},
          "execution_count": 3
        }
      ]
    },
    {
      "cell_type": "code",
      "source": [
        "# grouping data by theme and calculating mean values for the metrics\n",
        "theme_performance = df.groupby('Theme').mean()\n",
        "\n",
        "# sorting the data by conversion rate for a better comparison\n",
        "theme_performance_sorted = theme_performance.sort_values(by='Conversion Rate', ascending=False)\n",
        "\n",
        "print(theme_performance_sorted)"
      ],
      "metadata": {
        "colab": {
          "base_uri": "https://localhost:8080/"
        },
        "id": "i9utclP8sCD8",
        "outputId": "97d051b0-ba58-43aa-9e98-6dddbf1ed164"
      },
      "execution_count": 4,
      "outputs": [
        {
          "output_type": "stream",
          "name": "stdout",
          "text": [
            "             Click Through Rate  Conversion Rate  Bounce Rate  Scroll_Depth  \\\n",
            "Theme                                                                         \n",
            "Light Theme            0.247109         0.255459     0.499035     50.735232   \n",
            "Dark Theme             0.264501         0.251282     0.512115     49.926404   \n",
            "\n",
            "                   Age  Session_Duration  \n",
            "Theme                                     \n",
            "Light Theme  41.734568        930.833333  \n",
            "Dark Theme   41.332685        919.482490  \n"
          ]
        },
        {
          "output_type": "stream",
          "name": "stderr",
          "text": [
            "<ipython-input-4-039bb918a83b>:2: FutureWarning: The default value of numeric_only in DataFrameGroupBy.mean is deprecated. In a future version, numeric_only will default to False. Either specify numeric_only or select only columns which should be valid for the function.\n",
            "  theme_performance = df.groupby('Theme').mean()\n"
          ]
        }
      ]
    },
    {
      "cell_type": "markdown",
      "source": [
        "# *Getting Started with Hypothesis Testing*\n",
        "\n",
        "1. Setting the stage for hypothesis testing: We'll set a significance level (alpha) of 0.05. This means we'll consider a result statistically significant if the p-value from our test is less than 0.05.\n",
        "Formulating the hypotheses\n",
        "\n",
        "2. We'll investigate the Conversion Rate between the Light Theme and Dark Theme.\n",
        "\n",
        "- Null Hypothesis (H0): There's no difference in Conversion Rates between the Light and Dark Theme.\n",
        "\n",
        "- Alternative Hypothesis (Ha): There's a difference in Conversion Rates between the Light and Dark Theme.\n",
        "\n",
        "3. Choosing the statistical test\n",
        "We'll employ a two-sample t-test to analyze the means of the two independent samples (light theme conversion rates and dark theme conversion rates)."
      ],
      "metadata": {
        "id": "rNyZ_7zBufKf"
      }
    },
    {
      "cell_type": "code",
      "source": [
        "# extracting conversion rates for both themes\n",
        "conversion_rates_light = df[df['Theme'] == 'Light Theme']['Conversion Rate']\n",
        "conversion_rates_dark = df[df['Theme'] == 'Dark Theme']['Conversion Rate']\n",
        "\n",
        "# performing a two-sample t-test\n",
        "t_stat, p_value = ttest_ind(conversion_rates_light, conversion_rates_dark, equal_var=False)\n",
        "\n",
        "t_stat, p_value\n"
      ],
      "metadata": {
        "colab": {
          "base_uri": "https://localhost:8080/"
        },
        "id": "7QUQuKU5tUGM",
        "outputId": "26d5fdb3-c721-48b9-9416-b736c735274e"
      },
      "execution_count": 12,
      "outputs": [
        {
          "output_type": "execute_result",
          "data": {
            "text/plain": [
              "(0.4748494462782632, 0.6349982678451778)"
            ]
          },
          "metadata": {},
          "execution_count": 12
        }
      ]
    },
    {
      "cell_type": "markdown",
      "source": [
        "# *No significant difference in conversion rates found*\n",
        "\n",
        "The two-sample t-test resulted in a p-value of approximately 0.635. This value is considerably higher than our chosen significance level of 0.05. Because the p-value is greater than 0.05, we fail to reject the null hypothesis. In other words, based on this data, we don't have statistically significant evidence to suggest a difference in conversion rates between the light theme and dark theme."
      ],
      "metadata": {
        "id": "Uv9pLWx6xzEB"
      }
    },
    {
      "cell_type": "markdown",
      "source": [
        "# *Shifting focus to Click-Through Rate (CTR)*\n",
        "\n",
        "While the conversion rate analysis didn't reveal a significant difference, let's now investigate Click-Through Rate (CTR). This metric tells us how often users who see the ad actually click on it.\n",
        "\n",
        "We'll maintain the same structure for our hypotheses:\n",
        "\n",
        "- Null Hypothesis (H0): There's no difference in CTR between Light and Dark Theme.\n",
        "\n",
        "- Alternative Hypothesis (Ha): There's a difference in CTR between Light and Dark Theme.\n",
        "\n",
        "We'll employ a two-sample t-test again to compare the CTR means for the two themes."
      ],
      "metadata": {
        "id": "5Fp6A-l1yg0A"
      }
    },
    {
      "cell_type": "code",
      "source": [
        "# extracting click through rates for both themes\n",
        "ctr_light = df[df['Theme'] == 'Light Theme']['Click Through Rate']\n",
        "ctr_dark = df[df['Theme'] == 'Dark Theme']['Click Through Rate']\n",
        "\n",
        "# performing a two-sample t-test\n",
        "t_stat_ctr, p_value_ctr = ttest_ind(ctr_light, ctr_dark, equal_var=False)\n",
        "\n",
        "t_stat_ctr, p_value_ctr\n"
      ],
      "metadata": {
        "colab": {
          "base_uri": "https://localhost:8080/"
        },
        "id": "nayauIQIt0-S",
        "outputId": "84de61e2-98ac-40b6-84e6-0bdc8b830171"
      },
      "execution_count": 13,
      "outputs": [
        {
          "output_type": "execute_result",
          "data": {
            "text/plain": [
              "(-1.9781708664172253, 0.04818435371010704)"
            ]
          },
          "metadata": {},
          "execution_count": 13
        }
      ]
    },
    {
      "cell_type": "markdown",
      "source": [
        "# *Click-Through Rate (CTR) reveals a potential difference*\n",
        "\n",
        "The two-sample t-test for CTR between Light and Dark Theme yielded a p-value of approximately 0.048. This value is close to our significance level of 0.05.\n",
        "\n",
        "Since the p-value is less than 0.05, we can reject the null hypothesis. This suggests there might be a statistically significant difference in CTR between the themes.\n"
      ],
      "metadata": {
        "id": "ibzNh7s9y-Ol"
      }
    },
    {
      "cell_type": "markdown",
      "source": [
        "# *Bounce Rate and Scroll Depth*\n",
        "\n",
        "So far, we've investigated conversion rate and click-through rate. Now, let's delve into two additional metrics crucial for website theme or design evaluation: bounce rate and scroll depth.\n",
        "\n",
        "- Bounce Rate: This metric tells us the percentage of visitors who leave a webpage after viewing only one page. A high bounce rate can indicate that users aren't finding the information they need or the design isn't engaging.\n",
        "- Scroll Depth: This metric measures how far down a webpage a user scrolls. A higher scroll depth suggests that users are interested in the content and potentially engaging further.\n",
        "\n",
        "We'll conduct hypothesis tests for both bounce rate and scroll depth to gain a more comprehensive understanding of user behavior with the Light and Dark Themes. Following these tests, we'll create a summary table to consolidate all our findings."
      ],
      "metadata": {
        "id": "xFJZlYMJzWHp"
      }
    },
    {
      "cell_type": "code",
      "source": [
        "# extracting bounce rates for both themes\n",
        "bounce_rates_light = df[df['Theme'] == 'Light Theme']['Bounce Rate']\n",
        "bounce_rates_dark = df[df['Theme'] == 'Dark Theme']['Bounce Rate']\n",
        "\n",
        "# performing a two-sample t-test for bounce rate\n",
        "t_stat_bounce, p_value_bounce = ttest_ind(bounce_rates_light, bounce_rates_dark, equal_var=False)\n",
        "\n",
        "# extracting scroll depths for both themes\n",
        "scroll_depth_light = df[df['Theme'] == 'Light Theme']['Scroll_Depth']\n",
        "scroll_depth_dark = df[df['Theme'] == 'Dark Theme']['Scroll_Depth']\n",
        "\n",
        "# performing a two-sample t-test for scroll depth\n",
        "t_stat_scroll, p_value_scroll = ttest_ind(scroll_depth_light, scroll_depth_dark, equal_var=False)\n",
        "\n",
        "# creating a table for comparison\n",
        "comparison_table = pd.DataFrame({\n",
        "    'Metric': ['Click Through Rate', 'Conversion Rate', 'Bounce Rate', 'Scroll Depth'],\n",
        "    'T-Statistic': [t_stat_ctr, t_stat, t_stat_bounce, t_stat_scroll],\n",
        "    'P-Value': [p_value_ctr, p_value, p_value_bounce, p_value_scroll]\n",
        "})\n",
        "\n"
      ],
      "metadata": {
        "id": "2SJJl0Z0up9a"
      },
      "execution_count": 15,
      "outputs": []
    },
    {
      "cell_type": "markdown",
      "source": [
        "# *Table comparing the performance of the Light Theme and Dark Theme across various metrics based on hypothesis testing*"
      ],
      "metadata": {
        "id": "bE5uysJe0IZn"
      }
    },
    {
      "cell_type": "code",
      "source": [
        "comparison_table"
      ],
      "metadata": {
        "colab": {
          "base_uri": "https://localhost:8080/",
          "height": 175
        },
        "id": "NrApWhn50YWP",
        "outputId": "12e8bcc1-2975-4cc5-bc85-6c884abc0838"
      },
      "execution_count": 16,
      "outputs": [
        {
          "output_type": "execute_result",
          "data": {
            "text/plain": [
              "               Metric  T-Statistic   P-Value\n",
              "0  Click Through Rate    -1.978171  0.048184\n",
              "1     Conversion Rate     0.474849  0.634998\n",
              "2         Bounce Rate    -1.201888  0.229692\n",
              "3        Scroll Depth     0.756228  0.449692"
            ],
            "text/html": [
              "\n",
              "  <div id=\"df-9775559c-ed6c-4092-b81b-2d400cfc08fd\" class=\"colab-df-container\">\n",
              "    <div>\n",
              "<style scoped>\n",
              "    .dataframe tbody tr th:only-of-type {\n",
              "        vertical-align: middle;\n",
              "    }\n",
              "\n",
              "    .dataframe tbody tr th {\n",
              "        vertical-align: top;\n",
              "    }\n",
              "\n",
              "    .dataframe thead th {\n",
              "        text-align: right;\n",
              "    }\n",
              "</style>\n",
              "<table border=\"1\" class=\"dataframe\">\n",
              "  <thead>\n",
              "    <tr style=\"text-align: right;\">\n",
              "      <th></th>\n",
              "      <th>Metric</th>\n",
              "      <th>T-Statistic</th>\n",
              "      <th>P-Value</th>\n",
              "    </tr>\n",
              "  </thead>\n",
              "  <tbody>\n",
              "    <tr>\n",
              "      <th>0</th>\n",
              "      <td>Click Through Rate</td>\n",
              "      <td>-1.978171</td>\n",
              "      <td>0.048184</td>\n",
              "    </tr>\n",
              "    <tr>\n",
              "      <th>1</th>\n",
              "      <td>Conversion Rate</td>\n",
              "      <td>0.474849</td>\n",
              "      <td>0.634998</td>\n",
              "    </tr>\n",
              "    <tr>\n",
              "      <th>2</th>\n",
              "      <td>Bounce Rate</td>\n",
              "      <td>-1.201888</td>\n",
              "      <td>0.229692</td>\n",
              "    </tr>\n",
              "    <tr>\n",
              "      <th>3</th>\n",
              "      <td>Scroll Depth</td>\n",
              "      <td>0.756228</td>\n",
              "      <td>0.449692</td>\n",
              "    </tr>\n",
              "  </tbody>\n",
              "</table>\n",
              "</div>\n",
              "    <div class=\"colab-df-buttons\">\n",
              "\n",
              "  <div class=\"colab-df-container\">\n",
              "    <button class=\"colab-df-convert\" onclick=\"convertToInteractive('df-9775559c-ed6c-4092-b81b-2d400cfc08fd')\"\n",
              "            title=\"Convert this dataframe to an interactive table.\"\n",
              "            style=\"display:none;\">\n",
              "\n",
              "  <svg xmlns=\"http://www.w3.org/2000/svg\" height=\"24px\" viewBox=\"0 -960 960 960\">\n",
              "    <path d=\"M120-120v-720h720v720H120Zm60-500h600v-160H180v160Zm220 220h160v-160H400v160Zm0 220h160v-160H400v160ZM180-400h160v-160H180v160Zm440 0h160v-160H620v160ZM180-180h160v-160H180v160Zm440 0h160v-160H620v160Z\"/>\n",
              "  </svg>\n",
              "    </button>\n",
              "\n",
              "  <style>\n",
              "    .colab-df-container {\n",
              "      display:flex;\n",
              "      gap: 12px;\n",
              "    }\n",
              "\n",
              "    .colab-df-convert {\n",
              "      background-color: #E8F0FE;\n",
              "      border: none;\n",
              "      border-radius: 50%;\n",
              "      cursor: pointer;\n",
              "      display: none;\n",
              "      fill: #1967D2;\n",
              "      height: 32px;\n",
              "      padding: 0 0 0 0;\n",
              "      width: 32px;\n",
              "    }\n",
              "\n",
              "    .colab-df-convert:hover {\n",
              "      background-color: #E2EBFA;\n",
              "      box-shadow: 0px 1px 2px rgba(60, 64, 67, 0.3), 0px 1px 3px 1px rgba(60, 64, 67, 0.15);\n",
              "      fill: #174EA6;\n",
              "    }\n",
              "\n",
              "    .colab-df-buttons div {\n",
              "      margin-bottom: 4px;\n",
              "    }\n",
              "\n",
              "    [theme=dark] .colab-df-convert {\n",
              "      background-color: #3B4455;\n",
              "      fill: #D2E3FC;\n",
              "    }\n",
              "\n",
              "    [theme=dark] .colab-df-convert:hover {\n",
              "      background-color: #434B5C;\n",
              "      box-shadow: 0px 1px 3px 1px rgba(0, 0, 0, 0.15);\n",
              "      filter: drop-shadow(0px 1px 2px rgba(0, 0, 0, 0.3));\n",
              "      fill: #FFFFFF;\n",
              "    }\n",
              "  </style>\n",
              "\n",
              "    <script>\n",
              "      const buttonEl =\n",
              "        document.querySelector('#df-9775559c-ed6c-4092-b81b-2d400cfc08fd button.colab-df-convert');\n",
              "      buttonEl.style.display =\n",
              "        google.colab.kernel.accessAllowed ? 'block' : 'none';\n",
              "\n",
              "      async function convertToInteractive(key) {\n",
              "        const element = document.querySelector('#df-9775559c-ed6c-4092-b81b-2d400cfc08fd');\n",
              "        const dataTable =\n",
              "          await google.colab.kernel.invokeFunction('convertToInteractive',\n",
              "                                                    [key], {});\n",
              "        if (!dataTable) return;\n",
              "\n",
              "        const docLinkHtml = 'Like what you see? Visit the ' +\n",
              "          '<a target=\"_blank\" href=https://colab.research.google.com/notebooks/data_table.ipynb>data table notebook</a>'\n",
              "          + ' to learn more about interactive tables.';\n",
              "        element.innerHTML = '';\n",
              "        dataTable['output_type'] = 'display_data';\n",
              "        await google.colab.output.renderOutput(dataTable, element);\n",
              "        const docLink = document.createElement('div');\n",
              "        docLink.innerHTML = docLinkHtml;\n",
              "        element.appendChild(docLink);\n",
              "      }\n",
              "    </script>\n",
              "  </div>\n",
              "\n",
              "\n",
              "<div id=\"df-2db8bd75-2cf2-4918-a687-5cc4f80325a3\">\n",
              "  <button class=\"colab-df-quickchart\" onclick=\"quickchart('df-2db8bd75-2cf2-4918-a687-5cc4f80325a3')\"\n",
              "            title=\"Suggest charts\"\n",
              "            style=\"display:none;\">\n",
              "\n",
              "<svg xmlns=\"http://www.w3.org/2000/svg\" height=\"24px\"viewBox=\"0 0 24 24\"\n",
              "     width=\"24px\">\n",
              "    <g>\n",
              "        <path d=\"M19 3H5c-1.1 0-2 .9-2 2v14c0 1.1.9 2 2 2h14c1.1 0 2-.9 2-2V5c0-1.1-.9-2-2-2zM9 17H7v-7h2v7zm4 0h-2V7h2v10zm4 0h-2v-4h2v4z\"/>\n",
              "    </g>\n",
              "</svg>\n",
              "  </button>\n",
              "\n",
              "<style>\n",
              "  .colab-df-quickchart {\n",
              "      --bg-color: #E8F0FE;\n",
              "      --fill-color: #1967D2;\n",
              "      --hover-bg-color: #E2EBFA;\n",
              "      --hover-fill-color: #174EA6;\n",
              "      --disabled-fill-color: #AAA;\n",
              "      --disabled-bg-color: #DDD;\n",
              "  }\n",
              "\n",
              "  [theme=dark] .colab-df-quickchart {\n",
              "      --bg-color: #3B4455;\n",
              "      --fill-color: #D2E3FC;\n",
              "      --hover-bg-color: #434B5C;\n",
              "      --hover-fill-color: #FFFFFF;\n",
              "      --disabled-bg-color: #3B4455;\n",
              "      --disabled-fill-color: #666;\n",
              "  }\n",
              "\n",
              "  .colab-df-quickchart {\n",
              "    background-color: var(--bg-color);\n",
              "    border: none;\n",
              "    border-radius: 50%;\n",
              "    cursor: pointer;\n",
              "    display: none;\n",
              "    fill: var(--fill-color);\n",
              "    height: 32px;\n",
              "    padding: 0;\n",
              "    width: 32px;\n",
              "  }\n",
              "\n",
              "  .colab-df-quickchart:hover {\n",
              "    background-color: var(--hover-bg-color);\n",
              "    box-shadow: 0 1px 2px rgba(60, 64, 67, 0.3), 0 1px 3px 1px rgba(60, 64, 67, 0.15);\n",
              "    fill: var(--button-hover-fill-color);\n",
              "  }\n",
              "\n",
              "  .colab-df-quickchart-complete:disabled,\n",
              "  .colab-df-quickchart-complete:disabled:hover {\n",
              "    background-color: var(--disabled-bg-color);\n",
              "    fill: var(--disabled-fill-color);\n",
              "    box-shadow: none;\n",
              "  }\n",
              "\n",
              "  .colab-df-spinner {\n",
              "    border: 2px solid var(--fill-color);\n",
              "    border-color: transparent;\n",
              "    border-bottom-color: var(--fill-color);\n",
              "    animation:\n",
              "      spin 1s steps(1) infinite;\n",
              "  }\n",
              "\n",
              "  @keyframes spin {\n",
              "    0% {\n",
              "      border-color: transparent;\n",
              "      border-bottom-color: var(--fill-color);\n",
              "      border-left-color: var(--fill-color);\n",
              "    }\n",
              "    20% {\n",
              "      border-color: transparent;\n",
              "      border-left-color: var(--fill-color);\n",
              "      border-top-color: var(--fill-color);\n",
              "    }\n",
              "    30% {\n",
              "      border-color: transparent;\n",
              "      border-left-color: var(--fill-color);\n",
              "      border-top-color: var(--fill-color);\n",
              "      border-right-color: var(--fill-color);\n",
              "    }\n",
              "    40% {\n",
              "      border-color: transparent;\n",
              "      border-right-color: var(--fill-color);\n",
              "      border-top-color: var(--fill-color);\n",
              "    }\n",
              "    60% {\n",
              "      border-color: transparent;\n",
              "      border-right-color: var(--fill-color);\n",
              "    }\n",
              "    80% {\n",
              "      border-color: transparent;\n",
              "      border-right-color: var(--fill-color);\n",
              "      border-bottom-color: var(--fill-color);\n",
              "    }\n",
              "    90% {\n",
              "      border-color: transparent;\n",
              "      border-bottom-color: var(--fill-color);\n",
              "    }\n",
              "  }\n",
              "</style>\n",
              "\n",
              "  <script>\n",
              "    async function quickchart(key) {\n",
              "      const quickchartButtonEl =\n",
              "        document.querySelector('#' + key + ' button');\n",
              "      quickchartButtonEl.disabled = true;  // To prevent multiple clicks.\n",
              "      quickchartButtonEl.classList.add('colab-df-spinner');\n",
              "      try {\n",
              "        const charts = await google.colab.kernel.invokeFunction(\n",
              "            'suggestCharts', [key], {});\n",
              "      } catch (error) {\n",
              "        console.error('Error during call to suggestCharts:', error);\n",
              "      }\n",
              "      quickchartButtonEl.classList.remove('colab-df-spinner');\n",
              "      quickchartButtonEl.classList.add('colab-df-quickchart-complete');\n",
              "    }\n",
              "    (() => {\n",
              "      let quickchartButtonEl =\n",
              "        document.querySelector('#df-2db8bd75-2cf2-4918-a687-5cc4f80325a3 button');\n",
              "      quickchartButtonEl.style.display =\n",
              "        google.colab.kernel.accessAllowed ? 'block' : 'none';\n",
              "    })();\n",
              "  </script>\n",
              "</div>\n",
              "    </div>\n",
              "  </div>\n"
            ],
            "application/vnd.google.colaboratory.intrinsic+json": {
              "type": "dataframe",
              "variable_name": "comparison_table",
              "summary": "{\n  \"name\": \"comparison_table\",\n  \"rows\": 4,\n  \"fields\": [\n    {\n      \"column\": \"Metric\",\n      \"properties\": {\n        \"dtype\": \"string\",\n        \"num_unique_values\": 4,\n        \"samples\": [\n          \"Conversion Rate\",\n          \"Scroll Depth\",\n          \"Click Through Rate\"\n        ],\n        \"semantic_type\": \"\",\n        \"description\": \"\"\n      }\n    },\n    {\n      \"column\": \"T-Statistic\",\n      \"properties\": {\n        \"dtype\": \"number\",\n        \"std\": 1.3172478030444517,\n        \"min\": -1.9781708664172253,\n        \"max\": 0.7562277864140986,\n        \"num_unique_values\": 4,\n        \"samples\": [\n          0.4748494462782632,\n          0.7562277864140986,\n          -1.9781708664172253\n        ],\n        \"semantic_type\": \"\",\n        \"description\": \"\"\n      }\n    },\n    {\n      \"column\": \"P-Value\",\n      \"properties\": {\n        \"dtype\": \"number\",\n        \"std\": 0.2558507759909918,\n        \"min\": 0.04818435371010704,\n        \"max\": 0.6349982678451778,\n        \"num_unique_values\": 4,\n        \"samples\": [\n          0.6349982678451778,\n          0.4496919249484911,\n          0.04818435371010704\n        ],\n        \"semantic_type\": \"\",\n        \"description\": \"\"\n      }\n    }\n  ]\n}"
            }
          },
          "metadata": {},
          "execution_count": 16
        }
      ]
    },
    {
      "cell_type": "markdown",
      "source": [
        "Summary:\n",
        "\n",
        "The analysis reveals a few key insights:\n",
        "\n",
        "- Click-Through Rate (CTR): Users are more likely to click on elements presented in the Dark Theme (statistically significant difference).\n",
        "\n",
        "- Conversion Rate, Bounce Rate, and Scroll Depth: These metrics show no statistically significant difference between Light and Dark Themes. This suggests user behavior is similar for both themes in terms of completing desired actions, leaving the webpage quickly, and scrolling through content.\n",
        "\n",
        "Overall, while the Dark Theme appears to have a slight edge in CTR, user behavior seems comparable for other key website performance metrics."
      ],
      "metadata": {
        "id": "A4CvmO_n0BnM"
      }
    },
    {
      "cell_type": "code",
      "source": [],
      "metadata": {
        "id": "zr5No8YQusT3"
      },
      "execution_count": null,
      "outputs": []
    }
  ]
}